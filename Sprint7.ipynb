{
 "cells": [
  {
   "cell_type": "markdown",
   "metadata": {},
   "source": [
    "<img src=\"https://upload.wikimedia.org/wikipedia/en/thumb/b/b0/Adelphi_Panthers_current_logo.svg/375px-Adelphi_Panthers_current_logo.svg.png\" width=\"375px\" height=\"160px\">"
   ]
  },
  {
   "cell_type": "markdown",
   "metadata": {},
   "source": [
    "<p style=\"text-align: left;\"><span style=\"font-family: Arial, Helvetica, sans-serif; font-size: 25px;\"><strong><span style=\"color: rgb(209, 72, 65);\">Sprint 7</span></strong></span></p>"
   ]
  },
  {
   "cell_type": "markdown",
   "metadata": {},
   "source": [
    "<p><strong><span style=\"color: rgb(26, 188, 156); font-size: 25px;\">Group 1 - Chensheng, Xuan, Liam</span></strong></p>"
   ]
  },
  {
   "cell_type": "markdown",
   "metadata": {},
   "source": [
    "<p><a href=\"https://drive.google.com/file/d/1Di9GUfaDe_wmLetDmDS6HysQPygyWQ4_/view?usp=sharing\"><span style=\"color: rgb(65, 168, 95);\"><strong><span style=\"font-size: 25px;\">Link to our presentation</span></strong></span></a><span style=\"color: rgb(65, 168, 95);\"><strong><span style=\"font-size: 20px;\"><a href=\"https://drive.google.com/file/d/1Di9GUfaDe_wmLetDmDS6HysQPygyWQ4_/view?usp=sharing\"></a> if Professor is interested</span></strong></span></p>"
   ]
  },
  {
   "cell_type": "markdown",
   "metadata": {},
   "source": [
    "<p><strong><span style=\"color: rgb(61, 142, 185); font-size: 30px;\">Import Libraries</span></strong></p>"
   ]
  },
  {
   "cell_type": "code",
   "execution_count": 1,
   "metadata": {},
   "outputs": [],
   "source": [
    "import pandas as pd  \n",
    "import numpy as np  \n",
    "import plotly.io as pio\n",
    "from sklearn.model_selection import train_test_split \n",
    "from sklearn import metrics \n",
    "import chart_studio.plotly as py\n",
    "import plotly.graph_objs as go\n",
    "from plotly.offline import init_notebook_mode\n",
    "from sklearn.svm import SVR\n",
    "import plotly.express as px\n",
    "import cufflinks as cf\n",
    "from yellowbrick.regressor import ResidualsPlot \n",
    "from sklearn.linear_model import Ridge\n",
    "from sklearn.linear_model import LinearRegression\n",
    "import plotly\n",
    "import plotly.figure_factory as ff\n",
    "import pickle"
   ]
  },
  {
   "cell_type": "code",
   "execution_count": 2,
   "metadata": {},
   "outputs": [
    {
     "data": {
      "text/html": [
       "        <script type=\"text/javascript\">\n",
       "        window.PlotlyConfig = {MathJaxConfig: 'local'};\n",
       "        if (window.MathJax) {MathJax.Hub.Config({SVG: {font: \"STIX-Web\"}});}\n",
       "        if (typeof require !== 'undefined') {\n",
       "        require.undef(\"plotly\");\n",
       "        requirejs.config({\n",
       "            paths: {\n",
       "                'plotly': ['https://cdn.plot.ly/plotly-latest.min']\n",
       "            }\n",
       "        });\n",
       "        require(['plotly'], function(Plotly) {\n",
       "            window._Plotly = Plotly;\n",
       "        });\n",
       "        }\n",
       "        </script>\n",
       "        "
      ]
     },
     "metadata": {},
     "output_type": "display_data"
    }
   ],
   "source": [
    "init_notebook_mode(connected=True)"
   ]
  },
  {
   "cell_type": "code",
   "execution_count": 3,
   "metadata": {},
   "outputs": [
    {
     "data": {
      "text/html": [
       "        <script type=\"text/javascript\">\n",
       "        window.PlotlyConfig = {MathJaxConfig: 'local'};\n",
       "        if (window.MathJax) {MathJax.Hub.Config({SVG: {font: \"STIX-Web\"}});}\n",
       "        if (typeof require !== 'undefined') {\n",
       "        require.undef(\"plotly\");\n",
       "        requirejs.config({\n",
       "            paths: {\n",
       "                'plotly': ['https://cdn.plot.ly/plotly-latest.min']\n",
       "            }\n",
       "        });\n",
       "        require(['plotly'], function(Plotly) {\n",
       "            window._Plotly = Plotly;\n",
       "        });\n",
       "        }\n",
       "        </script>\n",
       "        "
      ]
     },
     "metadata": {},
     "output_type": "display_data"
    }
   ],
   "source": [
    "cf.go_offline()"
   ]
  },
  {
   "cell_type": "markdown",
   "metadata": {},
   "source": [
    "<p><strong><span style=\"color: rgb(61, 142, 185); font-size: 40px;\">Data without 2020</span></strong></p>"
   ]
  },
  {
   "cell_type": "code",
   "execution_count": 4,
   "metadata": {},
   "outputs": [],
   "source": [
    "df = pd.read_csv(\"sprint7.csv\") #prepare dataset"
   ]
  },
  {
   "cell_type": "code",
   "execution_count": 5,
   "metadata": {},
   "outputs": [],
   "source": [
    "df.index = pd.to_datetime(df[\"date\"])"
   ]
  },
  {
   "cell_type": "markdown",
   "metadata": {},
   "source": [
    "<p><strong><span style=\"color: rgb(61, 142, 185); font-size: 30px;\">Standardization Transformation</span></strong></p>"
   ]
  },
  {
   "cell_type": "code",
   "execution_count": 6,
   "metadata": {},
   "outputs": [],
   "source": [
    "dfStd=(df-df.mean())/df.std()"
   ]
  },
  {
   "cell_type": "code",
   "execution_count": 7,
   "metadata": {},
   "outputs": [],
   "source": [
    "#10 features\n",
    "features = dfStd[['Housing_total_sales_NO_SI','Gray_cement_dispatch_contractor','RADAR_Tools'\n",
    ",'Housing_total_launch_NO_SI','Housing_total_sales','Gray_cement_dispatch_other','RADAR_Plumbinglag_3','Housing_total_launch_NO_SIlag_4','Seasonal','Offshore_microcredit_loans']]"
   ]
  },
  {
   "cell_type": "code",
   "execution_count": 8,
   "metadata": {},
   "outputs": [],
   "source": [
    "name=list(features)"
   ]
  },
  {
   "cell_type": "code",
   "execution_count": 9,
   "metadata": {},
   "outputs": [],
   "source": [
    "target=dfStd[['Quantity']]"
   ]
  },
  {
   "cell_type": "code",
   "execution_count": 10,
   "metadata": {},
   "outputs": [],
   "source": [
    "#define X(features), and y(label)\n",
    "Xstd =features\n",
    "\n",
    "ystd = target "
   ]
  },
  {
   "cell_type": "markdown",
   "metadata": {},
   "source": [
    "<p><strong><span style=\"color: rgb(61, 142, 185); font-size: 30px;\">Heat Map--Correlation</span></strong></p>"
   ]
  },
  {
   "cell_type": "code",
   "execution_count": 11,
   "metadata": {},
   "outputs": [],
   "source": [
    "corrs = features.corr()\n",
    "figure = ff.create_annotated_heatmap(z=corrs.values,x=list(corrs.columns),y=list(corrs.index), annotation_text=corrs.round(2).values,showscale=True,colorscale=\"blues\")"
   ]
  },
  {
   "cell_type": "markdown",
   "metadata": {},
   "source": [
    "<p><strong><span style=\"color: rgb(61, 142, 185); font-size: 30px;\">1.Support Vector Machine Regression</span></strong></p>"
   ]
  },
  {
   "cell_type": "code",
   "execution_count": 12,
   "metadata": {},
   "outputs": [],
   "source": [
    "#split testing and training set\n",
    "X_train, X_test, y_train, y_test = train_test_split(Xstd,ystd,test_size=0.25,random_state=42) "
   ]
  },
  {
   "cell_type": "code",
   "execution_count": 13,
   "metadata": {},
   "outputs": [
    {
     "name": "stdout",
     "output_type": "stream",
     "text": [
      "Training Metrics:\n",
      "R squared: 0.8229853456278702\n",
      "Mean Absolute Error: 0.30454132150801483\n",
      "Mean Squared Error: 0.13524163089952712\n",
      "Root Mean Squared Error: 0.367752132420095\n",
      "\n",
      "Testing Metrics:\n",
      "R squared: 0.8987589015416149\n",
      "Mean Absolute Error: 0.3220724685425985\n",
      "Mean Squared Error: 0.1655052934727105\n",
      "Root Mean Squared Error: 0.40682341804855643\n"
     ]
    }
   ],
   "source": [
    "SVReg = SVR(kernel = 'linear',C=2,epsilon=0.2) \n",
    "SVReg.fit(X_train, y_train.values.ravel()) #train the model\n",
    "\n",
    "y_pred_Train = SVReg.predict(X_train) \n",
    "y_pred_Test = SVReg.predict(X_test) \n",
    "#show Training Metrics and Testing Metrics\n",
    "print('Training Metrics:')\n",
    "print('R squared:', metrics.r2_score(y_train, y_pred_Train))\n",
    "print('Mean Absolute Error:', metrics.mean_absolute_error(y_train, y_pred_Train))  \n",
    "print('Mean Squared Error:', metrics.mean_squared_error(y_train, y_pred_Train))  \n",
    "print('Root Mean Squared Error:', np.sqrt(metrics.mean_squared_error(y_train, y_pred_Train)))\n",
    "\n",
    "print('\\nTesting Metrics:')\n",
    "print('R squared:', metrics.r2_score(y_test, y_pred_Test))\n",
    "print('Mean Absolute Error:', metrics.mean_absolute_error(y_test, y_pred_Test))  \n",
    "print('Mean Squared Error:', metrics.mean_squared_error(y_test, y_pred_Test))  \n",
    "print('Root Mean Squared Error:', np.sqrt(metrics.mean_squared_error(y_test, y_pred_Test)))"
   ]
  },
  {
   "cell_type": "markdown",
   "metadata": {},
   "source": [
    "<p><strong><span style=\"color: rgb(61, 142, 185); font-size: 25px;\">Box Plots - (R Squared, MAE, MSE)</span></strong></p>"
   ]
  },
  {
   "cell_type": "code",
   "execution_count": 14,
   "metadata": {},
   "outputs": [],
   "source": [
    "#!! change the first two lines after for loop to the model with configrutation and the fit.\n",
    "# And delete the # before the .show line.\n",
    "#This will show boxplots."
   ]
  },
  {
   "cell_type": "code",
   "execution_count": 15,
   "metadata": {},
   "outputs": [],
   "source": [
    "R2 = [] \n",
    "for i in range(100):\n",
    "    X_train, X_test, y_train, y_test = train_test_split(Xstd,ystd,test_size=0.25) \n",
    "    SVReg = SVR(kernel = 'linear',C=2,epsilon=0.2) \n",
    "    SVReg.fit(X_train, y_train.values.ravel()) #train the model\n",
    "    y_pred_Test  = SVReg.predict(X_test)  \n",
    "    R2.append(metrics.r2_score(y_test, y_pred_Test))\n",
    "\n",
    "fig1 = px.box(R2)\n",
    "#fig1.show()"
   ]
  },
  {
   "cell_type": "code",
   "execution_count": 16,
   "metadata": {},
   "outputs": [],
   "source": [
    "MAE = [] \n",
    "for i in range(100):\n",
    "    X_train, X_test, y_train, y_test = train_test_split(Xstd,ystd,test_size=0.25) \n",
    "    SVReg = SVR(kernel = 'linear',C=2,epsilon=0.2) \n",
    "    SVReg.fit(X_train, y_train.values.ravel()) #train the model\n",
    "    y_pred_Test  = SVReg.predict(X_test)  \n",
    "    MAE.append(metrics.mean_absolute_error(y_test, y_pred_Test))\n",
    "\n",
    "fig2 = px.box(MAE)\n",
    "#fig2.show()"
   ]
  },
  {
   "cell_type": "code",
   "execution_count": 17,
   "metadata": {},
   "outputs": [],
   "source": [
    "MSE = [] \n",
    "for i in range(100):\n",
    "    X_train, X_test, y_train, y_test = train_test_split(Xstd,ystd,test_size=0.25) \n",
    "    SVReg = SVR(kernel = 'linear',C=2,epsilon=0.2) \n",
    "    SVReg.fit(X_train, y_train.values.ravel()) #train the model\n",
    "    y_pred_Test  = SVReg.predict(X_test)  \n",
    "    MSE.append(metrics.mean_squared_error(y_test, y_pred_Test))\n",
    "\n",
    "fig3 = px.box(MSE)\n",
    "#fig3.show()"
   ]
  },
  {
   "cell_type": "markdown",
   "metadata": {},
   "source": [
    "<p><strong><span style=\"color: rgb(61, 142, 185); font-size: 30px;\">2.Ridge Regression</span></strong></p>"
   ]
  },
  {
   "cell_type": "code",
   "execution_count": 18,
   "metadata": {},
   "outputs": [],
   "source": [
    "#split testing and training set\n",
    "X_train, X_test, y_train, y_test = train_test_split(Xstd,ystd,test_size=0.25,random_state=42) "
   ]
  },
  {
   "cell_type": "code",
   "execution_count": 19,
   "metadata": {},
   "outputs": [
    {
     "name": "stdout",
     "output_type": "stream",
     "text": [
      "Training Metrics:\n",
      "R squared: 0.8297569444513031\n",
      "Mean Absolute Error: 0.3018142569168214\n",
      "Mean Squared Error: 0.1300680362503906\n",
      "Root Mean Squared Error: 0.36064946450867025\n",
      "\n",
      "Testing Metrics:\n",
      "R squared: 0.9021347876241389\n",
      "Mean Absolute Error: 0.32789154500662643\n",
      "Mean Squared Error: 0.1599865167572618\n",
      "Root Mean Squared Error: 0.3999831455914884\n"
     ]
    }
   ],
   "source": [
    "RidgeReg = Ridge(normalize=True,alpha=0.01,tol=0.001,max_iter=2000)  \n",
    "RidgeReg.fit(X_train, y_train) #train the model\n",
    "\n",
    "y_pred_Train = RidgeReg.predict(X_train) \n",
    "y_pred_Test  = RidgeReg.predict(X_test)\n",
    "#show Training and Testing Metrics\n",
    "print('Training Metrics:')\n",
    "print('R squared:', metrics.r2_score(y_train, y_pred_Train))\n",
    "print('Mean Absolute Error:', metrics.mean_absolute_error(y_train, y_pred_Train))  \n",
    "print('Mean Squared Error:', metrics.mean_squared_error(y_train, y_pred_Train))  \n",
    "print('Root Mean Squared Error:', np.sqrt(metrics.mean_squared_error(y_train, y_pred_Train)))\n",
    "\n",
    "print('\\nTesting Metrics:')\n",
    "print('R squared:', metrics.r2_score(y_test, y_pred_Test))\n",
    "print('Mean Absolute Error:', metrics.mean_absolute_error(y_test, y_pred_Test))  \n",
    "print('Mean Squared Error:', metrics.mean_squared_error(y_test, y_pred_Test))  \n",
    "print('Root Mean Squared Error:', np.sqrt(metrics.mean_squared_error(y_test, y_pred_Test)))"
   ]
  },
  {
   "cell_type": "markdown",
   "metadata": {},
   "source": [
    "<p><strong><span style=\"color: rgb(61, 142, 185); font-size: 30px;\">3.Multiple Linear Regression</span></strong></p>"
   ]
  },
  {
   "cell_type": "code",
   "execution_count": 20,
   "metadata": {},
   "outputs": [],
   "source": [
    "#split testing and training set\n",
    "X_train, X_test, y_train, y_test = train_test_split(Xstd,ystd,test_size=0.25,random_state=42) "
   ]
  },
  {
   "cell_type": "code",
   "execution_count": 21,
   "metadata": {},
   "outputs": [
    {
     "name": "stdout",
     "output_type": "stream",
     "text": [
      "Training Metrics:\n",
      "R squared: 0.829783817328369\n",
      "Mean Absolute Error: 0.30181505506879586\n",
      "Mean Squared Error: 0.13004750500265722\n",
      "Root Mean Squared Error: 0.3606209991149395\n",
      "\n",
      "Testing Metrics:\n",
      "R squared: 0.9021575129730091\n",
      "Mean Absolute Error: 0.3278331114982842\n",
      "Mean Squared Error: 0.15994936617719807\n",
      "Root Mean Squared Error: 0.39993670271331444\n"
     ]
    }
   ],
   "source": [
    "LinearReg = LinearRegression(normalize=True)  \n",
    "lr = LinearReg.fit(X_train, y_train) #train the model\n",
    "\n",
    "y_pred_Train = LinearReg.predict(X_train) \n",
    "y_pred_Test  = LinearReg.predict(X_test)\n",
    "#show Training and Testing Metrics\n",
    "print('Training Metrics:')\n",
    "print('R squared:', metrics.r2_score(y_train, y_pred_Train))\n",
    "print('Mean Absolute Error:', metrics.mean_absolute_error(y_train, y_pred_Train))  \n",
    "print('Mean Squared Error:', metrics.mean_squared_error(y_train, y_pred_Train))  \n",
    "print('Root Mean Squared Error:', np.sqrt(metrics.mean_squared_error(y_train, y_pred_Train)))\n",
    "\n",
    "print('\\nTesting Metrics:')\n",
    "print('R squared:', metrics.r2_score(y_test, y_pred_Test))\n",
    "print('Mean Absolute Error:', metrics.mean_absolute_error(y_test, y_pred_Test))  \n",
    "print('Mean Squared Error:', metrics.mean_squared_error(y_test, y_pred_Test))  \n",
    "print('Root Mean Squared Error:', np.sqrt(metrics.mean_squared_error(y_test, y_pred_Test))) "
   ]
  },
  {
   "cell_type": "code",
   "execution_count": 22,
   "metadata": {},
   "outputs": [
    {
     "data": {
      "image/png": "[encoded data removed]",
      "text/plain": [
       "<Figure size 576x396 with 2 Axes>"
      ]
     },
     "metadata": {},
     "output_type": "display_data"
    },
    {
     "data": {
      "text/plain": [
       "<AxesSubplot:title={'center':'Residuals for LinearRegression Model'}, xlabel='Predicted Value', ylabel='Residuals'>"
      ]
     },
     "execution_count": 22,
     "metadata": {},
     "output_type": "execute_result"
    }
   ],
   "source": [
    "#Residual Plot of Linear Regression\n",
    "LinearReg = LinearRegression(normalize=True) \n",
    "visualizer = ResidualsPlot(LinearReg)\n",
    "visualizer.fit(X_train, y_train)  \n",
    "visualizer.score(X_test, y_test)  \n",
    "visualizer.poof()"
   ]
  },
  {
   "cell_type": "markdown",
   "metadata": {},
   "source": [
    "<p><strong><span style=\"color: rgb(61, 142, 185); font-size: 25px;\">Features of Importance Chart</span></strong></p>"
   ]
  },
  {
   "cell_type": "code",
   "execution_count": 23,
   "metadata": {},
   "outputs": [],
   "source": [
    "#!!try to run different 3 models individually by changing the LinearReg to RidgeReg or SVReg, you could get Importance Chart for each model"
   ]
  },
  {
   "cell_type": "code",
   "execution_count": 24,
   "metadata": {},
   "outputs": [],
   "source": [
    "colors = ['Positive' if c > 0 else 'Negative' for c in LinearReg.coef_[0]]\n",
    "\n",
    "fig = px.bar(\n",
    "    x=X_train.columns, y=LinearReg.coef_[0], color=colors,\n",
    "    color_discrete_sequence=['red', 'blue'],\n",
    "    labels=dict(x='Feature', y='Linear coefficient'),\n",
    "    title='Weight of each feature for predicting Quantity'\n",
    ")"
   ]
  },
  {
   "cell_type": "markdown",
   "metadata": {},
   "source": [
    "<p><strong><span style=\"color: rgb(61, 142, 185); font-size: 25px;\">Time Series Graph</span></strong></p>"
   ]
  },
  {
   "cell_type": "code",
   "execution_count": 25,
   "metadata": {},
   "outputs": [],
   "source": [
    "#!!try to run different 3 models individually, you could get different Time Series Graph for each model"
   ]
  },
  {
   "cell_type": "code",
   "execution_count": 26,
   "metadata": {},
   "outputs": [],
   "source": [
    "X_test.sort_values(\"date\",inplace=True)\n",
    "y_test.sort_values(\"date\",inplace=True)"
   ]
  },
  {
   "cell_type": "code",
   "execution_count": null,
   "metadata": {},
   "outputs": [],
   "source": [
    "figure999=go.Figure()\n",
    "figure999.add_trace(go.Scatter(x=X_test.index,y=y_test.values.flatten(),name='Actual'))\n",
    "figure999.update_layout(title={\n",
    "        'text': \"Timeseries Graph(without2020)\",\n",
    "        'y':0.9,\n",
    "        'x':0.5,\n",
    "        'xanchor': 'center',\n",
    "        'yanchor': 'top'}\n",
    ")\n",
    "figure999.add_trace(go.Scatter(x=X_test.index, y=y_pred_Test.flatten(),\n",
    "                    line=dict(color='red', width=1),\n",
    "                    mode='lines',\n",
    "                    name='Prediction')\n",
    "                    )\n",
    "figure999.update_xaxes(\n",
    "    rangeslider_visible=True,\n",
    "    rangeselector=dict(\n",
    "        buttons=list([\n",
    "            dict(count=1, label=\"1m\", step=\"month\", stepmode=\"backward\"),\n",
    "            dict(count=6, label=\"6m\", step=\"month\", stepmode=\"backward\"),\n",
    "            dict(step=\"all\")\n",
    "        ])\n",
    "    )\n",
    ")\n",
    "figure999.update_layout(title={\n",
    "        'text': \"Timeseries Graph(without2020)\",\n",
    "        'y':0.9,\n",
    "        'x':0.5,\n",
    "        'xanchor': 'center',\n",
    "        'yanchor': 'top'})"
   ]
  },
  {
   "cell_type": "markdown",
   "metadata": {},
   "source": [
    "<p><strong><span style=\"color: rgb(176, 92, 250); font-size: 40px;\">Data with 2020</span></strong></p>"
   ]
  },
  {
   "cell_type": "code",
   "execution_count": 28,
   "metadata": {},
   "outputs": [],
   "source": [
    "df1 = pd.read_csv(\"sprint7with2020.csv\") #prepare dataset"
   ]
  },
  {
   "cell_type": "code",
   "execution_count": 29,
   "metadata": {},
   "outputs": [],
   "source": [
    "df1.index = pd.to_datetime(df1[\"date\"])"
   ]
  },
  {
   "cell_type": "code",
   "execution_count": 30,
   "metadata": {},
   "outputs": [],
   "source": [
    "dfStd1=(df1-df1.mean())/df1.std() #Standardization"
   ]
  },
  {
   "cell_type": "code",
   "execution_count": 31,
   "metadata": {},
   "outputs": [],
   "source": [
    "#10 features\n",
    "features2=dfStd1[['Housing_total_sales_NO_SI','Gray_cement_dispatch_contractor','RADAR_Tools'\n",
    ",'Housing_total_launch_NO_SI','Housing_total_sales','Gray_cement_dispatch_other','RADAR_Plumbinglag_3','Housing_total_launch_NO_SIlag_4','Seasonal','Offshore_microcredit_loans']]"
   ]
  },
  {
   "cell_type": "code",
   "execution_count": 32,
   "metadata": {},
   "outputs": [],
   "source": [
    "target1=dfStd1[['Quantity']]"
   ]
  },
  {
   "cell_type": "code",
   "execution_count": 33,
   "metadata": {},
   "outputs": [],
   "source": [
    "#define X, y\n",
    "Xstd1 =features2\n",
    "\n",
    "ystd1 = target1"
   ]
  },
  {
   "cell_type": "code",
   "execution_count": 34,
   "metadata": {},
   "outputs": [],
   "source": [
    "#split testing and training sets\n",
    "X_train, X_test, y_train, y_test = train_test_split(Xstd1,ystd1,test_size=0.25,random_state=60000) "
   ]
  },
  {
   "cell_type": "code",
   "execution_count": 35,
   "metadata": {},
   "outputs": [],
   "source": [
    "name1=list(features2)"
   ]
  },
  {
   "cell_type": "markdown",
   "metadata": {},
   "source": [
    "<p><strong><span style=\"color: rgb(176, 92, 250); font-size: 30px;\">1.Support Vector Machine Regression(The Best)</span></strong></p>"
   ]
  },
  {
   "cell_type": "code",
   "execution_count": 36,
   "metadata": {},
   "outputs": [
    {
     "name": "stdout",
     "output_type": "stream",
     "text": [
      "Training Metrics:\n",
      "R squared: 0.7008272989028212\n",
      "Mean Absolute Error: 0.33637523479818615\n",
      "Mean Squared Error: 0.16905712162286324\n",
      "Root Mean Squared Error: 0.41116556473379823\n",
      "\n",
      "Testing Metrics:\n",
      "R squared: 0.9090677902662546\n",
      "Mean Absolute Error: 0.33724280668116485\n",
      "Mean Squared Error: 0.20035180371388273\n",
      "Root Mean Squared Error: 0.4476067511933692\n"
     ]
    }
   ],
   "source": [
    "SVReg = SVR(kernel = 'linear',C=2,epsilon=0.2) \n",
    "SVReg.fit(X_train, y_train.values.ravel()) #train the model\n",
    "\n",
    "y_pred_Train = SVReg.predict(X_train) \n",
    "y_pred_Test = SVReg.predict(X_test) \n",
    "\n",
    "print('Training Metrics:')\n",
    "print('R squared:', metrics.r2_score(y_train, y_pred_Train))\n",
    "print('Mean Absolute Error:', metrics.mean_absolute_error(y_train, y_pred_Train))  \n",
    "print('Mean Squared Error:', metrics.mean_squared_error(y_train, y_pred_Train))  \n",
    "print('Root Mean Squared Error:', np.sqrt(metrics.mean_squared_error(y_train, y_pred_Train)))\n",
    "\n",
    "print('\\nTesting Metrics:')\n",
    "print('R squared:', metrics.r2_score(y_test, y_pred_Test))\n",
    "print('Mean Absolute Error:', metrics.mean_absolute_error(y_test, y_pred_Test))  \n",
    "print('Mean Squared Error:', metrics.mean_squared_error(y_test, y_pred_Test))  \n",
    "print('Root Mean Squared Error:', np.sqrt(metrics.mean_squared_error(y_test, y_pred_Test)))"
   ]
  },
  {
   "cell_type": "markdown",
   "metadata": {},
   "source": [
    "<p><strong><span style=\"color: rgb(176, 92, 250); font-size: 25px;\">Time Series Graph</span></strong></p>"
   ]
  },
  {
   "cell_type": "code",
   "execution_count": 37,
   "metadata": {},
   "outputs": [],
   "source": [
    "#!!try to run different 3 models individually, you could get different Time Series Graph for each model"
   ]
  },
  {
   "cell_type": "code",
   "execution_count": 38,
   "metadata": {},
   "outputs": [],
   "source": [
    "X_test.sort_values(\"date\",inplace=True)\n",
    "y_test.sort_values(\"date\",inplace=True)"
   ]
  },
  {
   "cell_type": "code",
   "execution_count": 39,
   "metadata": {},
   "outputs": [
    {
     "data": {
      "application/vnd.plotly.v1+json": {
       "config": {
        "plotlyServerURL": "https://plot.ly"
       },
       "data": [
        {
         "name": "Actual",
         "type": "scatter",
         "x": [
          "2012-01-31T00:00:00",
          "2012-04-30T00:00:00",
          "2012-10-31T00:00:00",
          "2012-12-31T00:00:00",
          "2014-06-30T00:00:00",
          "2014-07-31T00:00:00",
          "2014-10-31T00:00:00",
          "2015-03-31T00:00:00",
          "2015-06-30T00:00:00",
          "2015-10-31T00:00:00",
          "2016-01-31T00:00:00",
          "2016-02-29T00:00:00",
          "2016-10-31T00:00:00",
          "2016-11-30T00:00:00",
          "2017-02-28T00:00:00",
          "2017-12-31T00:00:00",
          "2018-06-30T00:00:00",
          "2019-01-31T00:00:00",
          "2019-05-31T00:00:00",
          "2019-06-30T00:00:00",
          "2019-09-30T00:00:00",
          "2019-11-30T00:00:00",
          "2020-01-31T00:00:00",
          "2020-02-29T00:00:00",
          "2020-03-31T00:00:00",
          "2020-04-30T00:00:00",
          "2020-10-31T00:00:00"
         ],
         "y": [
          -0.45746583296891224,
          -1.510765184062203,
          0.2929157406193823,
          -1.032644314781417,
          -0.5759325320981498,
          0.09972531586540237,
          0.5154222812664209,
          0.4837016891047895,
          0.5540326222800969,
          0.9713479843567424,
          2.0258958146822517,
          1.798395361229993,
          0.7709287330768888,
          0.633873536284407,
          0.9490140984806791,
          -1.6320134005139117,
          -0.4361954660569929,
          0.4051400497730084,
          -0.5406052260491159,
          -1.0721794540427247,
          -0.02063722034157348,
          -0.14109223668258644,
          0.8258309269483333,
          0.3119665915308032,
          -2.8411341930310616,
          -5.553938369732871,
          0.9943292301401524
         ]
        },
        {
         "line": {
          "color": "red",
          "width": 1
         },
         "mode": "lines",
         "name": "Prediction",
         "type": "scatter",
         "x": [
          "2012-01-31T00:00:00",
          "2012-04-30T00:00:00",
          "2012-10-31T00:00:00",
          "2012-12-31T00:00:00",
          "2014-06-30T00:00:00",
          "2014-07-31T00:00:00",
          "2014-10-31T00:00:00",
          "2015-03-31T00:00:00",
          "2015-06-30T00:00:00",
          "2015-10-31T00:00:00",
          "2016-01-31T00:00:00",
          "2016-02-29T00:00:00",
          "2016-10-31T00:00:00",
          "2016-11-30T00:00:00",
          "2017-02-28T00:00:00",
          "2017-12-31T00:00:00",
          "2018-06-30T00:00:00",
          "2019-01-31T00:00:00",
          "2019-05-31T00:00:00",
          "2019-06-30T00:00:00",
          "2019-09-30T00:00:00",
          "2019-11-30T00:00:00",
          "2020-01-31T00:00:00",
          "2020-02-29T00:00:00",
          "2020-03-31T00:00:00",
          "2020-04-30T00:00:00",
          "2020-10-31T00:00:00"
         ],
         "y": [
          0.8222595157448851,
          1.294519329777138,
          -0.1987541741292647,
          0.33114806281254044,
          0.26870948646772924,
          -0.0356531766465216,
          0.16073037581493896,
          -0.8743370578753835,
          -0.16087108847563972,
          -1.020396336692899,
          0.9424893979212494,
          0.4904033738058683,
          0.7851930589354701,
          -0.8524437076729214,
          -0.23371901119498187,
          -0.6080854393846551,
          1.0895048716291875,
          -1.000090229693097,
          1.0125399907904866,
          0.8265487907664235,
          0.450229960687301,
          -0.6923125867099199,
          -1.9349956059869904,
          -0.05153448983847601,
          0.4256823618163656,
          -4.360754072580078,
          1.4550362674621897
         ]
        }
       ],
       "layout": {
        "template": {
         "data": {
          "bar": [
           {
            "error_x": {
             "color": "#2a3f5f"
            },
            "error_y": {
             "color": "#2a3f5f"
            },
            "marker": {
             "line": {
              "color": "#E5ECF6",
              "width": 0.5
             }
            },
            "type": "bar"
           }
          ],
          "barpolar": [
           {
            "marker": {
             "line": {
              "color": "#E5ECF6",
              "width": 0.5
             }
            },
            "type": "barpolar"
           }
          ],
          "carpet": [
           {
            "aaxis": {
             "endlinecolor": "#2a3f5f",
             "gridcolor": "white",
             "linecolor": "white",
             "minorgridcolor": "white",
             "startlinecolor": "#2a3f5f"
            },
            "baxis": {
             "endlinecolor": "#2a3f5f",
             "gridcolor": "white",
             "linecolor": "white",
             "minorgridcolor": "white",
             "startlinecolor": "#2a3f5f"
            },
            "type": "carpet"
           }
          ],
          "choropleth": [
           {
            "colorbar": {
             "outlinewidth": 0,
             "ticks": ""
            },
            "type": "choropleth"
           }
          ],
          "contour": [
           {
            "colorbar": {
             "outlinewidth": 0,
             "ticks": ""
            },
            "colorscale": [
             [
              0,
              "#0d0887"
             ],
             [
              0.1111111111111111,
              "#46039f"
             ],
             [
              0.2222222222222222,
              "#7201a8"
             ],
             [
              0.3333333333333333,
              "#9c179e"
             ],
             [
              0.4444444444444444,
              "#bd3786"
             ],
             [
              0.5555555555555556,
              "#d8576b"
             ],
             [
              0.6666666666666666,
              "#ed7953"
             ],
             [
              0.7777777777777778,
              "#fb9f3a"
             ],
             [
              0.8888888888888888,
              "#fdca26"
             ],
             [
              1,
              "#f0f921"
             ]
            ],
            "type": "contour"
           }
          ],
          "contourcarpet": [
           {
            "colorbar": {
             "outlinewidth": 0,
             "ticks": ""
            },
            "type": "contourcarpet"
           }
          ],
          "heatmap": [
           {
            "colorbar": {
             "outlinewidth": 0,
             "ticks": ""
            },
            "colorscale": [
             [
              0,
              "#0d0887"
             ],
             [
              0.1111111111111111,
              "#46039f"
             ],
             [
              0.2222222222222222,
              "#7201a8"
             ],
             [
              0.3333333333333333,
              "#9c179e"
             ],
             [
              0.4444444444444444,
              "#bd3786"
             ],
             [
              0.5555555555555556,
              "#d8576b"
             ],
             [
              0.6666666666666666,
              "#ed7953"
             ],
             [
              0.7777777777777778,
              "#fb9f3a"
             ],
             [
              0.8888888888888888,
              "#fdca26"
             ],
             [
              1,
              "#f0f921"
             ]
            ],
            "type": "heatmap"
           }
          ],
          "heatmapgl": [
           {
            "colorbar": {
             "outlinewidth": 0,
             "ticks": ""
            },
            "colorscale": [
             [
              0,
              "#0d0887"
             ],
             [
              0.1111111111111111,
              "#46039f"
             ],
             [
              0.2222222222222222,
              "#7201a8"
             ],
             [
              0.3333333333333333,
              "#9c179e"
             ],
             [
              0.4444444444444444,
              "#bd3786"
             ],
             [
              0.5555555555555556,
              "#d8576b"
             ],
             [
              0.6666666666666666,
              "#ed7953"
             ],
             [
              0.7777777777777778,
              "#fb9f3a"
             ],
             [
              0.8888888888888888,
              "#fdca26"
             ],
             [
              1,
              "#f0f921"
             ]
            ],
            "type": "heatmapgl"
           }
          ],
          "histogram": [
           {
            "marker": {
             "colorbar": {
              "outlinewidth": 0,
              "ticks": ""
             }
            },
            "type": "histogram"
           }
          ],
          "histogram2d": [
           {
            "colorbar": {
             "outlinewidth": 0,
             "ticks": ""
            },
            "colorscale": [
             [
              0,
              "#0d0887"
             ],
             [
              0.1111111111111111,
              "#46039f"
             ],
             [
              0.2222222222222222,
              "#7201a8"
             ],
             [
              0.3333333333333333,
              "#9c179e"
             ],
             [
              0.4444444444444444,
              "#bd3786"
             ],
             [
              0.5555555555555556,
              "#d8576b"
             ],
             [
              0.6666666666666666,
              "#ed7953"
             ],
             [
              0.7777777777777778,
              "#fb9f3a"
             ],
             [
              0.8888888888888888,
              "#fdca26"
             ],
             [
              1,
              "#f0f921"
             ]
            ],
            "type": "histogram2d"
           }
          ],
          "histogram2dcontour": [
           {
            "colorbar": {
             "outlinewidth": 0,
             "ticks": ""
            },
            "colorscale": [
             [
              0,
              "#0d0887"
             ],
             [
              0.1111111111111111,
              "#46039f"
             ],
             [
              0.2222222222222222,
              "#7201a8"
             ],
             [
              0.3333333333333333,
              "#9c179e"
             ],
             [
              0.4444444444444444,
              "#bd3786"
             ],
             [
              0.5555555555555556,
              "#d8576b"
             ],
             [
              0.6666666666666666,
              "#ed7953"
             ],
             [
              0.7777777777777778,
              "#fb9f3a"
             ],
             [
              0.8888888888888888,
              "#fdca26"
             ],
             [
              1,
              "#f0f921"
             ]
            ],
            "type": "histogram2dcontour"
           }
          ],
          "mesh3d": [
           {
            "colorbar": {
             "outlinewidth": 0,
             "ticks": ""
            },
            "type": "mesh3d"
           }
          ],
          "parcoords": [
           {
            "line": {
             "colorbar": {
              "outlinewidth": 0,
              "ticks": ""
             }
            },
            "type": "parcoords"
           }
          ],
          "pie": [
           {
            "automargin": true,
            "type": "pie"
           }
          ],
          "scatter": [
           {
            "marker": {
             "colorbar": {
              "outlinewidth": 0,
              "ticks": ""
             }
            },
            "type": "scatter"
           }
          ],
          "scatter3d": [
           {
            "line": {
             "colorbar": {
              "outlinewidth": 0,
              "ticks": ""
             }
            },
            "marker": {
             "colorbar": {
              "outlinewidth": 0,
              "ticks": ""
             }
            },
            "type": "scatter3d"
           }
          ],
          "scattercarpet": [
           {
            "marker": {
             "colorbar": {
              "outlinewidth": 0,
              "ticks": ""
             }
            },
            "type": "scattercarpet"
           }
          ],
          "scattergeo": [
           {
            "marker": {
             "colorbar": {
              "outlinewidth": 0,
              "ticks": ""
             }
            },
            "type": "scattergeo"
           }
          ],
          "scattergl": [
           {
            "marker": {
             "colorbar": {
              "outlinewidth": 0,
              "ticks": ""
             }
            },
            "type": "scattergl"
           }
          ],
          "scattermapbox": [
           {
            "marker": {
             "colorbar": {
              "outlinewidth": 0,
              "ticks": ""
             }
            },
            "type": "scattermapbox"
           }
          ],
          "scatterpolar": [
           {
            "marker": {
             "colorbar": {
              "outlinewidth": 0,
              "ticks": ""
             }
            },
            "type": "scatterpolar"
           }
          ],
          "scatterpolargl": [
           {
            "marker": {
             "colorbar": {
              "outlinewidth": 0,
              "ticks": ""
             }
            },
            "type": "scatterpolargl"
           }
          ],
          "scatterternary": [
           {
            "marker": {
             "colorbar": {
              "outlinewidth": 0,
              "ticks": ""
             }
            },
            "type": "scatterternary"
           }
          ],
          "surface": [
           {
            "colorbar": {
             "outlinewidth": 0,
             "ticks": ""
            },
            "colorscale": [
             [
              0,
              "#0d0887"
             ],
             [
              0.1111111111111111,
              "#46039f"
             ],
             [
              0.2222222222222222,
              "#7201a8"
             ],
             [
              0.3333333333333333,
              "#9c179e"
             ],
             [
              0.4444444444444444,
              "#bd3786"
             ],
             [
              0.5555555555555556,
              "#d8576b"
             ],
             [
              0.6666666666666666,
              "#ed7953"
             ],
             [
              0.7777777777777778,
              "#fb9f3a"
             ],
             [
              0.8888888888888888,
              "#fdca26"
             ],
             [
              1,
              "#f0f921"
             ]
            ],
            "type": "surface"
           }
          ],
          "table": [
           {
            "cells": {
             "fill": {
              "color": "#EBF0F8"
             },
             "line": {
              "color": "white"
             }
            },
            "header": {
             "fill": {
              "color": "#C8D4E3"
             },
             "line": {
              "color": "white"
             }
            },
            "type": "table"
           }
          ]
         },
         "layout": {
          "annotationdefaults": {
           "arrowcolor": "#2a3f5f",
           "arrowhead": 0,
           "arrowwidth": 1
          },
          "autotypenumbers": "strict",
          "coloraxis": {
           "colorbar": {
            "outlinewidth": 0,
            "ticks": ""
           }
          },
          "colorscale": {
           "diverging": [
            [
             0,
             "#8e0152"
            ],
            [
             0.1,
             "#c51b7d"
            ],
            [
             0.2,
             "#de77ae"
            ],
            [
             0.3,
             "#f1b6da"
            ],
            [
             0.4,
             "#fde0ef"
            ],
            [
             0.5,
             "#f7f7f7"
            ],
            [
             0.6,
             "#e6f5d0"
            ],
            [
             0.7,
             "#b8e186"
            ],
            [
             0.8,
             "#7fbc41"
            ],
            [
             0.9,
             "#4d9221"
            ],
            [
             1,
             "#276419"
            ]
           ],
           "sequential": [
            [
             0,
             "#0d0887"
            ],
            [
             0.1111111111111111,
             "#46039f"
            ],
            [
             0.2222222222222222,
             "#7201a8"
            ],
            [
             0.3333333333333333,
             "#9c179e"
            ],
            [
             0.4444444444444444,
             "#bd3786"
            ],
            [
             0.5555555555555556,
             "#d8576b"
            ],
            [
             0.6666666666666666,
             "#ed7953"
            ],
            [
             0.7777777777777778,
             "#fb9f3a"
            ],
            [
             0.8888888888888888,
             "#fdca26"
            ],
            [
             1,
             "#f0f921"
            ]
           ],
           "sequentialminus": [
            [
             0,
             "#0d0887"
            ],
            [
             0.1111111111111111,
             "#46039f"
            ],
            [
             0.2222222222222222,
             "#7201a8"
            ],
            [
             0.3333333333333333,
             "#9c179e"
            ],
            [
             0.4444444444444444,
             "#bd3786"
            ],
            [
             0.5555555555555556,
             "#d8576b"
            ],
            [
             0.6666666666666666,
             "#ed7953"
            ],
            [
             0.7777777777777778,
             "#fb9f3a"
            ],
            [
             0.8888888888888888,
             "#fdca26"
            ],
            [
             1,
             "#f0f921"
            ]
           ]
          },
          "colorway": [
           "#636efa",
           "#EF553B",
           "#00cc96",
           "#ab63fa",
           "#FFA15A",
           "#19d3f3",
           "#FF6692",
           "#B6E880",
           "#FF97FF",
           "#FECB52"
          ],
          "font": {
           "color": "#2a3f5f"
          },
          "geo": {
           "bgcolor": "white",
           "lakecolor": "white",
           "landcolor": "#E5ECF6",
           "showlakes": true,
           "showland": true,
           "subunitcolor": "white"
          },
          "hoverlabel": {
           "align": "left"
          },
          "hovermode": "closest",
          "mapbox": {
           "style": "light"
          },
          "paper_bgcolor": "white",
          "plot_bgcolor": "#E5ECF6",
          "polar": {
           "angularaxis": {
            "gridcolor": "white",
            "linecolor": "white",
            "ticks": ""
           },
           "bgcolor": "#E5ECF6",
           "radialaxis": {
            "gridcolor": "white",
            "linecolor": "white",
            "ticks": ""
           }
          },
          "scene": {
           "xaxis": {
            "backgroundcolor": "#E5ECF6",
            "gridcolor": "white",
            "gridwidth": 2,
            "linecolor": "white",
            "showbackground": true,
            "ticks": "",
            "zerolinecolor": "white"
           },
           "yaxis": {
            "backgroundcolor": "#E5ECF6",
            "gridcolor": "white",
            "gridwidth": 2,
            "linecolor": "white",
            "showbackground": true,
            "ticks": "",
            "zerolinecolor": "white"
           },
           "zaxis": {
            "backgroundcolor": "#E5ECF6",
            "gridcolor": "white",
            "gridwidth": 2,
            "linecolor": "white",
            "showbackground": true,
            "ticks": "",
            "zerolinecolor": "white"
           }
          },
          "shapedefaults": {
           "line": {
            "color": "#2a3f5f"
           }
          },
          "ternary": {
           "aaxis": {
            "gridcolor": "white",
            "linecolor": "white",
            "ticks": ""
           },
           "baxis": {
            "gridcolor": "white",
            "linecolor": "white",
            "ticks": ""
           },
           "bgcolor": "#E5ECF6",
           "caxis": {
            "gridcolor": "white",
            "linecolor": "white",
            "ticks": ""
           }
          },
          "title": {
           "x": 0.05
          },
          "xaxis": {
           "automargin": true,
           "gridcolor": "white",
           "linecolor": "white",
           "ticks": "",
           "title": {
            "standoff": 15
           },
           "zerolinecolor": "white",
           "zerolinewidth": 2
          },
          "yaxis": {
           "automargin": true,
           "gridcolor": "white",
           "linecolor": "white",
           "ticks": "",
           "title": {
            "standoff": 15
           },
           "zerolinecolor": "white",
           "zerolinewidth": 2
          }
         }
        },
        "title": {
         "text": "Timeseries Graph(with2020)",
         "x": 0.5,
         "xanchor": "center",
         "y": 0.9,
         "yanchor": "top"
        },
        "xaxis": {
         "rangeselector": {
          "buttons": [
           {
            "count": 1,
            "label": "1m",
            "step": "month",
            "stepmode": "backward"
           },
           {
            "count": 6,
            "label": "6m",
            "step": "month",
            "stepmode": "backward"
           },
           {
            "step": "all"
           }
          ]
         },
         "rangeslider": {
          "visible": true
         }
        }
       }
      },
      "text/html": [
       "<div>                            <div id=\"49b7ce79-f8b5-4751-80f6-f7dac7078b85\" class=\"plotly-graph-div\" style=\"height:525px; width:100%;\"></div>            <script type=\"text/javascript\">                require([\"plotly\"], function(Plotly) {                    window.PLOTLYENV=window.PLOTLYENV || {};                                    if (document.getElementById(\"49b7ce79-f8b5-4751-80f6-f7dac7078b85\")) {                    Plotly.newPlot(                        \"49b7ce79-f8b5-4751-80f6-f7dac7078b85\",                        [{\"name\": \"Actual\", \"type\": \"scatter\", \"x\": [\"2012-01-31T00:00:00\", \"2012-04-30T00:00:00\", \"2012-10-31T00:00:00\", \"2012-12-31T00:00:00\", \"2014-06-30T00:00:00\", \"2014-07-31T00:00:00\", \"2014-10-31T00:00:00\", \"2015-03-31T00:00:00\", \"2015-06-30T00:00:00\", \"2015-10-31T00:00:00\", \"2016-01-31T00:00:00\", \"2016-02-29T00:00:00\", \"2016-10-31T00:00:00\", \"2016-11-30T00:00:00\", \"2017-02-28T00:00:00\", \"2017-12-31T00:00:00\", \"2018-06-30T00:00:00\", \"2019-01-31T00:00:00\", \"2019-05-31T00:00:00\", \"2019-06-30T00:00:00\", \"2019-09-30T00:00:00\", \"2019-11-30T00:00:00\", \"2020-01-31T00:00:00\", \"2020-02-29T00:00:00\", \"2020-03-31T00:00:00\", \"2020-04-30T00:00:00\", \"2020-10-31T00:00:00\"], \"y\": [-0.45746583296891224, -1.510765184062203, 0.2929157406193823, -1.032644314781417, -0.5759325320981498, 0.09972531586540237, 0.5154222812664209, 0.4837016891047895, 0.5540326222800969, 0.9713479843567424, 2.0258958146822517, 1.798395361229993, 0.7709287330768888, 0.633873536284407, 0.9490140984806791, -1.6320134005139117, -0.4361954660569929, 0.4051400497730084, -0.5406052260491159, -1.0721794540427247, -0.02063722034157348, -0.14109223668258644, 0.8258309269483333, 0.3119665915308032, -2.8411341930310616, -5.553938369732871, 0.9943292301401524]}, {\"line\": {\"color\": \"red\", \"width\": 1}, \"mode\": \"lines\", \"name\": \"Prediction\", \"type\": \"scatter\", \"x\": [\"2012-01-31T00:00:00\", \"2012-04-30T00:00:00\", \"2012-10-31T00:00:00\", \"2012-12-31T00:00:00\", \"2014-06-30T00:00:00\", \"2014-07-31T00:00:00\", \"2014-10-31T00:00:00\", \"2015-03-31T00:00:00\", \"2015-06-30T00:00:00\", \"2015-10-31T00:00:00\", \"2016-01-31T00:00:00\", \"2016-02-29T00:00:00\", \"2016-10-31T00:00:00\", \"2016-11-30T00:00:00\", \"2017-02-28T00:00:00\", \"2017-12-31T00:00:00\", \"2018-06-30T00:00:00\", \"2019-01-31T00:00:00\", \"2019-05-31T00:00:00\", \"2019-06-30T00:00:00\", \"2019-09-30T00:00:00\", \"2019-11-30T00:00:00\", \"2020-01-31T00:00:00\", \"2020-02-29T00:00:00\", \"2020-03-31T00:00:00\", \"2020-04-30T00:00:00\", \"2020-10-31T00:00:00\"], \"y\": [0.8222595157448851, 1.294519329777138, -0.1987541741292647, 0.33114806281254044, 0.26870948646772924, -0.0356531766465216, 0.16073037581493896, -0.8743370578753835, -0.16087108847563972, -1.020396336692899, 0.9424893979212494, 0.4904033738058683, 0.7851930589354701, -0.8524437076729214, -0.23371901119498187, -0.6080854393846551, 1.0895048716291875, -1.000090229693097, 1.0125399907904866, 0.8265487907664235, 0.450229960687301, -0.6923125867099199, -1.9349956059869904, -0.05153448983847601, 0.4256823618163656, -4.360754072580078, 1.4550362674621897]}],                        {\"template\": {\"data\": {\"bar\": [{\"error_x\": {\"color\": \"#2a3f5f\"}, \"error_y\": {\"color\": \"#2a3f5f\"}, \"marker\": {\"line\": {\"color\": \"#E5ECF6\", \"width\": 0.5}}, \"type\": \"bar\"}], \"barpolar\": [{\"marker\": {\"line\": {\"color\": \"#E5ECF6\", \"width\": 0.5}}, \"type\": \"barpolar\"}], \"carpet\": [{\"aaxis\": {\"endlinecolor\": \"#2a3f5f\", \"gridcolor\": \"white\", \"linecolor\": \"white\", \"minorgridcolor\": \"white\", \"startlinecolor\": \"#2a3f5f\"}, \"baxis\": {\"endlinecolor\": \"#2a3f5f\", \"gridcolor\": \"white\", \"linecolor\": \"white\", \"minorgridcolor\": \"white\", \"startlinecolor\": \"#2a3f5f\"}, \"type\": \"carpet\"}], \"choropleth\": [{\"colorbar\": {\"outlinewidth\": 0, \"ticks\": \"\"}, \"type\": \"choropleth\"}], \"contour\": [{\"colorbar\": {\"outlinewidth\": 0, \"ticks\": \"\"}, \"colorscale\": [[0.0, \"#0d0887\"], [0.1111111111111111, \"#46039f\"], [0.2222222222222222, \"#7201a8\"], [0.3333333333333333, \"#9c179e\"], [0.4444444444444444, \"#bd3786\"], [0.5555555555555556, \"#d8576b\"], [0.6666666666666666, \"#ed7953\"], [0.7777777777777778, \"#fb9f3a\"], [0.8888888888888888, \"#fdca26\"], [1.0, \"#f0f921\"]], \"type\": \"contour\"}], \"contourcarpet\": [{\"colorbar\": {\"outlinewidth\": 0, \"ticks\": \"\"}, \"type\": \"contourcarpet\"}], \"heatmap\": [{\"colorbar\": {\"outlinewidth\": 0, \"ticks\": \"\"}, \"colorscale\": [[0.0, \"#0d0887\"], [0.1111111111111111, \"#46039f\"], [0.2222222222222222, \"#7201a8\"], [0.3333333333333333, \"#9c179e\"], [0.4444444444444444, \"#bd3786\"], [0.5555555555555556, \"#d8576b\"], [0.6666666666666666, \"#ed7953\"], [0.7777777777777778, \"#fb9f3a\"], [0.8888888888888888, \"#fdca26\"], [1.0, \"#f0f921\"]], \"type\": \"heatmap\"}], \"heatmapgl\": [{\"colorbar\": {\"outlinewidth\": 0, \"ticks\": \"\"}, \"colorscale\": [[0.0, \"#0d0887\"], [0.1111111111111111, \"#46039f\"], [0.2222222222222222, \"#7201a8\"], [0.3333333333333333, \"#9c179e\"], [0.4444444444444444, \"#bd3786\"], [0.5555555555555556, \"#d8576b\"], [0.6666666666666666, \"#ed7953\"], [0.7777777777777778, \"#fb9f3a\"], [0.8888888888888888, \"#fdca26\"], [1.0, \"#f0f921\"]], \"type\": \"heatmapgl\"}], \"histogram\": [{\"marker\": {\"colorbar\": {\"outlinewidth\": 0, \"ticks\": \"\"}}, \"type\": \"histogram\"}], \"histogram2d\": [{\"colorbar\": {\"outlinewidth\": 0, \"ticks\": \"\"}, \"colorscale\": [[0.0, \"#0d0887\"], [0.1111111111111111, \"#46039f\"], [0.2222222222222222, \"#7201a8\"], [0.3333333333333333, \"#9c179e\"], [0.4444444444444444, \"#bd3786\"], [0.5555555555555556, \"#d8576b\"], [0.6666666666666666, \"#ed7953\"], [0.7777777777777778, \"#fb9f3a\"], [0.8888888888888888, \"#fdca26\"], [1.0, \"#f0f921\"]], \"type\": \"histogram2d\"}], \"histogram2dcontour\": [{\"colorbar\": {\"outlinewidth\": 0, \"ticks\": \"\"}, \"colorscale\": [[0.0, \"#0d0887\"], [0.1111111111111111, \"#46039f\"], [0.2222222222222222, \"#7201a8\"], [0.3333333333333333, \"#9c179e\"], [0.4444444444444444, \"#bd3786\"], [0.5555555555555556, \"#d8576b\"], [0.6666666666666666, \"#ed7953\"], [0.7777777777777778, \"#fb9f3a\"], [0.8888888888888888, \"#fdca26\"], [1.0, \"#f0f921\"]], \"type\": \"histogram2dcontour\"}], \"mesh3d\": [{\"colorbar\": {\"outlinewidth\": 0, \"ticks\": \"\"}, \"type\": \"mesh3d\"}], \"parcoords\": [{\"line\": {\"colorbar\": {\"outlinewidth\": 0, \"ticks\": \"\"}}, \"type\": \"parcoords\"}], \"pie\": [{\"automargin\": true, \"type\": \"pie\"}], \"scatter\": [{\"marker\": {\"colorbar\": {\"outlinewidth\": 0, \"ticks\": \"\"}}, \"type\": \"scatter\"}], \"scatter3d\": [{\"line\": {\"colorbar\": {\"outlinewidth\": 0, \"ticks\": \"\"}}, \"marker\": {\"colorbar\": {\"outlinewidth\": 0, \"ticks\": \"\"}}, \"type\": \"scatter3d\"}], \"scattercarpet\": [{\"marker\": {\"colorbar\": {\"outlinewidth\": 0, \"ticks\": \"\"}}, \"type\": \"scattercarpet\"}], \"scattergeo\": [{\"marker\": {\"colorbar\": {\"outlinewidth\": 0, \"ticks\": \"\"}}, \"type\": \"scattergeo\"}], \"scattergl\": [{\"marker\": {\"colorbar\": {\"outlinewidth\": 0, \"ticks\": \"\"}}, \"type\": \"scattergl\"}], \"scattermapbox\": [{\"marker\": {\"colorbar\": {\"outlinewidth\": 0, \"ticks\": \"\"}}, \"type\": \"scattermapbox\"}], \"scatterpolar\": [{\"marker\": {\"colorbar\": {\"outlinewidth\": 0, \"ticks\": \"\"}}, \"type\": \"scatterpolar\"}], \"scatterpolargl\": [{\"marker\": {\"colorbar\": {\"outlinewidth\": 0, \"ticks\": \"\"}}, \"type\": \"scatterpolargl\"}], \"scatterternary\": [{\"marker\": {\"colorbar\": {\"outlinewidth\": 0, \"ticks\": \"\"}}, \"type\": \"scatterternary\"}], \"surface\": [{\"colorbar\": {\"outlinewidth\": 0, \"ticks\": \"\"}, \"colorscale\": [[0.0, \"#0d0887\"], [0.1111111111111111, \"#46039f\"], [0.2222222222222222, \"#7201a8\"], [0.3333333333333333, \"#9c179e\"], [0.4444444444444444, \"#bd3786\"], [0.5555555555555556, \"#d8576b\"], [0.6666666666666666, \"#ed7953\"], [0.7777777777777778, \"#fb9f3a\"], [0.8888888888888888, \"#fdca26\"], [1.0, \"#f0f921\"]], \"type\": \"surface\"}], \"table\": [{\"cells\": {\"fill\": {\"color\": \"#EBF0F8\"}, \"line\": {\"color\": \"white\"}}, \"header\": {\"fill\": {\"color\": \"#C8D4E3\"}, \"line\": {\"color\": \"white\"}}, \"type\": \"table\"}]}, \"layout\": {\"annotationdefaults\": {\"arrowcolor\": \"#2a3f5f\", \"arrowhead\": 0, \"arrowwidth\": 1}, \"autotypenumbers\": \"strict\", \"coloraxis\": {\"colorbar\": {\"outlinewidth\": 0, \"ticks\": \"\"}}, \"colorscale\": {\"diverging\": [[0, \"#8e0152\"], [0.1, \"#c51b7d\"], [0.2, \"#de77ae\"], [0.3, \"#f1b6da\"], [0.4, \"#fde0ef\"], [0.5, \"#f7f7f7\"], [0.6, \"#e6f5d0\"], [0.7, \"#b8e186\"], [0.8, \"#7fbc41\"], [0.9, \"#4d9221\"], [1, \"#276419\"]], \"sequential\": [[0.0, \"#0d0887\"], [0.1111111111111111, \"#46039f\"], [0.2222222222222222, \"#7201a8\"], [0.3333333333333333, \"#9c179e\"], [0.4444444444444444, \"#bd3786\"], [0.5555555555555556, \"#d8576b\"], [0.6666666666666666, \"#ed7953\"], [0.7777777777777778, \"#fb9f3a\"], [0.8888888888888888, \"#fdca26\"], [1.0, \"#f0f921\"]], \"sequentialminus\": [[0.0, \"#0d0887\"], [0.1111111111111111, \"#46039f\"], [0.2222222222222222, \"#7201a8\"], [0.3333333333333333, \"#9c179e\"], [0.4444444444444444, \"#bd3786\"], [0.5555555555555556, \"#d8576b\"], [0.6666666666666666, \"#ed7953\"], [0.7777777777777778, \"#fb9f3a\"], [0.8888888888888888, \"#fdca26\"], [1.0, \"#f0f921\"]]}, \"colorway\": [\"#636efa\", \"#EF553B\", \"#00cc96\", \"#ab63fa\", \"#FFA15A\", \"#19d3f3\", \"#FF6692\", \"#B6E880\", \"#FF97FF\", \"#FECB52\"], \"font\": {\"color\": \"#2a3f5f\"}, \"geo\": {\"bgcolor\": \"white\", \"lakecolor\": \"white\", \"landcolor\": \"#E5ECF6\", \"showlakes\": true, \"showland\": true, \"subunitcolor\": \"white\"}, \"hoverlabel\": {\"align\": \"left\"}, \"hovermode\": \"closest\", \"mapbox\": {\"style\": \"light\"}, \"paper_bgcolor\": \"white\", \"plot_bgcolor\": \"#E5ECF6\", \"polar\": {\"angularaxis\": {\"gridcolor\": \"white\", \"linecolor\": \"white\", \"ticks\": \"\"}, \"bgcolor\": \"#E5ECF6\", \"radialaxis\": {\"gridcolor\": \"white\", \"linecolor\": \"white\", \"ticks\": \"\"}}, \"scene\": {\"xaxis\": {\"backgroundcolor\": \"#E5ECF6\", \"gridcolor\": \"white\", \"gridwidth\": 2, \"linecolor\": \"white\", \"showbackground\": true, \"ticks\": \"\", \"zerolinecolor\": \"white\"}, \"yaxis\": {\"backgroundcolor\": \"#E5ECF6\", \"gridcolor\": \"white\", \"gridwidth\": 2, \"linecolor\": \"white\", \"showbackground\": true, \"ticks\": \"\", \"zerolinecolor\": \"white\"}, \"zaxis\": {\"backgroundcolor\": \"#E5ECF6\", \"gridcolor\": \"white\", \"gridwidth\": 2, \"linecolor\": \"white\", \"showbackground\": true, \"ticks\": \"\", \"zerolinecolor\": \"white\"}}, \"shapedefaults\": {\"line\": {\"color\": \"#2a3f5f\"}}, \"ternary\": {\"aaxis\": {\"gridcolor\": \"white\", \"linecolor\": \"white\", \"ticks\": \"\"}, \"baxis\": {\"gridcolor\": \"white\", \"linecolor\": \"white\", \"ticks\": \"\"}, \"bgcolor\": \"#E5ECF6\", \"caxis\": {\"gridcolor\": \"white\", \"linecolor\": \"white\", \"ticks\": \"\"}}, \"title\": {\"x\": 0.05}, \"xaxis\": {\"automargin\": true, \"gridcolor\": \"white\", \"linecolor\": \"white\", \"ticks\": \"\", \"title\": {\"standoff\": 15}, \"zerolinecolor\": \"white\", \"zerolinewidth\": 2}, \"yaxis\": {\"automargin\": true, \"gridcolor\": \"white\", \"linecolor\": \"white\", \"ticks\": \"\", \"title\": {\"standoff\": 15}, \"zerolinecolor\": \"white\", \"zerolinewidth\": 2}}}, \"title\": {\"text\": \"Timeseries Graph(with2020)\", \"x\": 0.5, \"xanchor\": \"center\", \"y\": 0.9, \"yanchor\": \"top\"}, \"xaxis\": {\"rangeselector\": {\"buttons\": [{\"count\": 1, \"label\": \"1m\", \"step\": \"month\", \"stepmode\": \"backward\"}, {\"count\": 6, \"label\": \"6m\", \"step\": \"month\", \"stepmode\": \"backward\"}, {\"step\": \"all\"}]}, \"rangeslider\": {\"visible\": true}}},                        {\"responsive\": true}                    ).then(function(){\n",
       "                            \n",
       "var gd = document.getElementById('49b7ce79-f8b5-4751-80f6-f7dac7078b85');\n",
       "var x = new MutationObserver(function (mutations, observer) {{\n",
       "        var display = window.getComputedStyle(gd).display;\n",
       "        if (!display || display === 'none') {{\n",
       "            console.log([gd, 'removed!']);\n",
       "            Plotly.purge(gd);\n",
       "            observer.disconnect();\n",
       "        }}\n",
       "}});\n",
       "\n",
       "// Listen for the removal of the full notebook cells\n",
       "var notebookContainer = gd.closest('#notebook-container');\n",
       "if (notebookContainer) {{\n",
       "    x.observe(notebookContainer, {childList: true});\n",
       "}}\n",
       "\n",
       "// Listen for the clearing of the current output cell\n",
       "var outputEl = gd.closest('.output');\n",
       "if (outputEl) {{\n",
       "    x.observe(outputEl, {childList: true});\n",
       "}}\n",
       "\n",
       "                        })                };                });            </script>        </div>"
      ]
     },
     "metadata": {},
     "output_type": "display_data"
    }
   ],
   "source": [
    "figure999=go.Figure()\n",
    "figure999.add_trace(go.Scatter(x=X_test.index,y=y_test.values.flatten(),name='Actual'))\n",
    "figure999.update_layout(title={\n",
    "        'text': \"Timeseries Graph(with2020)\",\n",
    "        'y':0.9,\n",
    "        'x':0.5,\n",
    "        'xanchor': 'center',\n",
    "        'yanchor': 'top'}\n",
    ")\n",
    "figure999.add_trace(go.Scatter(x=X_test.index, y=y_pred_Test.flatten(),\n",
    "                    line=dict(color='red', width=1),\n",
    "                    mode='lines',\n",
    "                    name='Prediction')\n",
    "                    )\n",
    "figure999.update_xaxes(\n",
    "    rangeslider_visible=True,\n",
    "    rangeselector=dict(\n",
    "        buttons=list([\n",
    "            dict(count=1, label=\"1m\", step=\"month\", stepmode=\"backward\"),\n",
    "            dict(count=6, label=\"6m\", step=\"month\", stepmode=\"backward\"),\n",
    "            dict(step=\"all\")\n",
    "        ])\n",
    "    )\n",
    ")\n",
    "figure999.update_layout(title={\n",
    "        'text': \"Timeseries Graph(with2020)\",\n",
    "        'y':0.9,\n",
    "        'x':0.5,\n",
    "        'xanchor': 'center',\n",
    "        'yanchor': 'top'})"
   ]
  },
  {
   "cell_type": "markdown",
   "metadata": {},
   "source": [
    "<p><strong><span style=\"color: rgb(176, 92, 250); font-size: 30px;\">2.Multiple Linear Regression</span></strong></p>"
   ]
  },
  {
   "cell_type": "code",
   "execution_count": 40,
   "metadata": {},
   "outputs": [
    {
     "name": "stdout",
     "output_type": "stream",
     "text": [
      "Training Metrics:\n",
      "R squared: 0.7175334319446368\n",
      "Mean Absolute Error: 0.3318674626997802\n",
      "Mean Squared Error: 0.15961678580632577\n",
      "Root Mean Squared Error: 0.39952069509141297\n",
      "\n",
      "Testing Metrics:\n",
      "R squared: 0.901662888732303\n",
      "Mean Absolute Error: 0.35020616669886606\n",
      "Mean Squared Error: 0.21666709378540858\n",
      "Root Mean Squared Error: 0.46547512692453136\n"
     ]
    }
   ],
   "source": [
    "#split testing and training sets\n",
    "X_train, X_test, y_train, y_test = train_test_split(Xstd1,ystd1,test_size=0.25,random_state=60000)\n",
    "LinearReg = LinearRegression(normalize=True)  \n",
    "lr = LinearReg.fit(X_train, y_train) #train the model\n",
    "\n",
    "y_pred_Train = LinearReg.predict(X_train) \n",
    "y_pred_Test  = LinearReg.predict(X_test) \n",
    "\n",
    "print('Training Metrics:')\n",
    "print('R squared:', metrics.r2_score(y_train, y_pred_Train))\n",
    "print('Mean Absolute Error:', metrics.mean_absolute_error(y_train, y_pred_Train))  \n",
    "print('Mean Squared Error:', metrics.mean_squared_error(y_train, y_pred_Train))  \n",
    "print('Root Mean Squared Error:', np.sqrt(metrics.mean_squared_error(y_train, y_pred_Train)))\n",
    "\n",
    "print('\\nTesting Metrics:')\n",
    "print('R squared:', metrics.r2_score(y_test, y_pred_Test))\n",
    "print('Mean Absolute Error:', metrics.mean_absolute_error(y_test, y_pred_Test))  \n",
    "print('Mean Squared Error:', metrics.mean_squared_error(y_test, y_pred_Test))  \n",
    "print('Root Mean Squared Error:', np.sqrt(metrics.mean_squared_error(y_test, y_pred_Test)))"
   ]
  },
  {
   "cell_type": "code",
   "execution_count": 41,
   "metadata": {},
   "outputs": [],
   "source": [
    "colors = ['Positive' if c > 0 else 'Negative' for c in LinearReg.coef_[0]]\n",
    "\n",
    "fig787 = px.bar(\n",
    "    x=X_train.columns, y=LinearReg.coef_[0], color=colors,\n",
    "    color_discrete_sequence=['red', 'blue'],\n",
    "    labels=dict(x='Feature', y='Linear coefficient'),\n",
    "    title='Weight of each feature for predicting Quantity'\n",
    ")"
   ]
  },
  {
   "cell_type": "markdown",
   "metadata": {},
   "source": [
    "<p><strong><span style=\"color: rgb(176, 92, 250); font-size: 30px;\">3.Ridge Regression</span></strong></p>"
   ]
  },
  {
   "cell_type": "code",
   "execution_count": 42,
   "metadata": {},
   "outputs": [
    {
     "name": "stdout",
     "output_type": "stream",
     "text": [
      "Training Metrics:\n",
      "R squared: 0.7174936902508193\n",
      "Mean Absolute Error: 0.3315357246390147\n",
      "Mean Squared Error: 0.15963924312392375\n",
      "Root Mean Squared Error: 0.39954879942745886\n",
      "\n",
      "Testing Metrics:\n",
      "R squared: 0.9009196476795169\n",
      "Mean Absolute Error: 0.35046486958626977\n",
      "Mean Squared Error: 0.21830468387538793\n",
      "Root Mean Squared Error: 0.4672308678537709\n"
     ]
    }
   ],
   "source": [
    "#split testing and training sets\n",
    "X_train, X_test, y_train, y_test = train_test_split(Xstd1,ystd1,test_size=0.25,random_state=60000)\n",
    "RidgeReg = Ridge(normalize=True,alpha=0.01,tol=0.001,max_iter=2000)  \n",
    "RidgeReg.fit(X_train, y_train) #train the model\n",
    "\n",
    "y_pred_Train = RidgeReg.predict(X_train) \n",
    "y_pred_Test  = RidgeReg.predict(X_test)  \n",
    "\n",
    "print('Training Metrics:')\n",
    "print('R squared:', metrics.r2_score(y_train, y_pred_Train))\n",
    "print('Mean Absolute Error:', metrics.mean_absolute_error(y_train, y_pred_Train))  \n",
    "print('Mean Squared Error:', metrics.mean_squared_error(y_train, y_pred_Train))  \n",
    "print('Root Mean Squared Error:', np.sqrt(metrics.mean_squared_error(y_train, y_pred_Train)))\n",
    "\n",
    "print('\\nTesting Metrics:')\n",
    "print('R squared:', metrics.r2_score(y_test, y_pred_Test))\n",
    "print('Mean Absolute Error:', metrics.mean_absolute_error(y_test, y_pred_Test))  \n",
    "print('Mean Squared Error:', metrics.mean_squared_error(y_test, y_pred_Test))  \n",
    "print('Root Mean Squared Error:', np.sqrt(metrics.mean_squared_error(y_test, y_pred_Test)))"
   ]
  },
  {
   "cell_type": "markdown",
   "metadata": {},
   "source": [
    "<p><strong><span style=\"color: rgb(176, 92, 250); font-size: 30px;\">Save and Upload Trained Models</span></strong></p>"
   ]
  },
  {
   "cell_type": "code",
   "execution_count": 43,
   "metadata": {},
   "outputs": [],
   "source": [
    "filename = 'finalized_model(LinearReg).sav'\n",
    "pickle.dump(LinearReg, open(filename, 'wb'))"
   ]
  },
  {
   "cell_type": "code",
   "execution_count": 44,
   "metadata": {},
   "outputs": [],
   "source": [
    "filename = 'finalized_model(RidgeReg).sav'\n",
    "pickle.dump(RidgeReg, open(filename, 'wb'))"
   ]
  },
  {
   "cell_type": "code",
   "execution_count": 45,
   "metadata": {},
   "outputs": [],
   "source": [
    "filename = 'finalized_model(SVReg).sav'\n",
    "pickle.dump(SVReg, open(filename, 'wb'))"
   ]
  }
 ],
 "metadata": {
  "kernelspec": {
   "display_name": "Python 3",
   "language": "python",
   "name": "python3"
  },
  "language_info": {
   "codemirror_mode": {
    "name": "ipython",
    "version": 3
   },
   "file_extension": ".py",
   "mimetype": "text/x-python",
   "name": "python",
   "nbconvert_exporter": "python",
   "pygments_lexer": "ipython3",
   "version": "3.8.5"
  }
 },
 "nbformat": 4,
 "nbformat_minor": 4
}
